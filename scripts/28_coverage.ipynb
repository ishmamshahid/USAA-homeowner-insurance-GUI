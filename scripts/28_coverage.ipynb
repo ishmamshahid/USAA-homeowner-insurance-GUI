{
 "cells": [
  {
   "cell_type": "code",
   "execution_count": null,
   "metadata": {},
   "outputs": [],
   "source": [
    "import pandas as pd\n",
    "\n",
    "# Data provided by user\n",
    "data = {\n",
    "    'Coverage Amount': ['2% of Coverage A', '5% of Coverage A', '10% of Coverage A', '15% of Coverage A', '25% of Coverage A', '50% of Coverage A', '75% of Coverage A', '100% of Coverage A'],\n",
    "    'Other Perils': [0.9127, 0.9469, 0.9677, 0.9831, 1.0000, 1.0803, 1.1199, 1.1426],\n",
    "    'Fire': [0.9127, 0.9469, 0.9677, 0.9831, 1.0000, 1.0803, 1.1199, 1.1426],\n",
    "    'Other Wind and Hail': [0.9127, 0.9469, 0.9677, 0.9831, 1.0000, 1.0803, 1.1199, 1.1426],\n",
    "    'Theft': [0.9127, 0.9469, 0.9677, 0.9831, 1.0000, 1.0803, 1.1199, 1.1426],\n",
    "    'Water': [0.9127, 0.9469, 0.9677, 0.9831, 1.0000, 1.0803, 1.1199, 1.1426],\n",
    "    'Liability': [1.0000, 1.0000, 1.0000, 1.0000, 1.0000, 1.0000, 1.0000, 1.0000],\n",
    "    'Hurricane': [0.8251, 0.8482, 0.8859, 0.9245, 1.0000, 1.1879, 1.3756, 1.5601],\n",
    "    'Severe Thunderstorm': [0.8519, 0.8702, 0.9010, 0.9328, 1.0000, 1.1898, 1.4157, 1.6844],\n",
    "    'Winter Storm': [0.8381, 0.8586, 0.8928, 0.9279, 1.0000, 1.1916, 1.3959, 1.6076],\n",
    "    'Earthquake': [0.8816, 0.8972, 0.9231, 0.9494, 1.0000, 1.1206, 1.2347, 1.3418],\n",
    "    'Optional Coverages': [0.9127, 0.9469, 0.9677, 0.9831, 1.0000, 1.0803, 1.1199, 1.1426]\n",
    "}\n",
    "\n",
    "# Create DataFrame\n",
    "df = pd.DataFrame(data)"
   ]
  }
 ],
 "metadata": {
  "kernelspec": {
   "display_name": "base",
   "language": "python",
   "name": "python3"
  },
  "language_info": {
   "name": "python",
   "version": "3.9.12"
  }
 },
 "nbformat": 4,
 "nbformat_minor": 2
}
