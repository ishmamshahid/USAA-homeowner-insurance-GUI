{
 "cells": [
  {
   "cell_type": "code",
   "execution_count": 2,
   "metadata": {},
   "outputs": [
    {
     "data": {
      "text/html": [
       "<div>\n",
       "<style scoped>\n",
       "    .dataframe tbody tr th:only-of-type {\n",
       "        vertical-align: middle;\n",
       "    }\n",
       "\n",
       "    .dataframe tbody tr th {\n",
       "        vertical-align: top;\n",
       "    }\n",
       "\n",
       "    .dataframe thead th {\n",
       "        text-align: right;\n",
       "    }\n",
       "</style>\n",
       "<table border=\"1\" class=\"dataframe\">\n",
       "  <thead>\n",
       "    <tr style=\"text-align: right;\">\n",
       "      <th></th>\n",
       "      <th>Form</th>\n",
       "      <th>Other Perils</th>\n",
       "      <th>Fire</th>\n",
       "      <th>Other Wind and Hail</th>\n",
       "      <th>Theft</th>\n",
       "      <th>Water</th>\n",
       "      <th>Liability</th>\n",
       "      <th>Hurricane</th>\n",
       "      <th>Severe Thunderstorm</th>\n",
       "      <th>Winter Storm</th>\n",
       "      <th>Earthquake</th>\n",
       "    </tr>\n",
       "  </thead>\n",
       "  <tbody>\n",
       "    <tr>\n",
       "      <th>0</th>\n",
       "      <td>HO-3R</td>\n",
       "      <td>1.0074</td>\n",
       "      <td>1.0074</td>\n",
       "      <td>1.0373</td>\n",
       "      <td>1.0</td>\n",
       "      <td>1.0</td>\n",
       "      <td>1.0</td>\n",
       "      <td>1.0569</td>\n",
       "      <td>1.0025</td>\n",
       "      <td>1.0066</td>\n",
       "      <td>1.0074</td>\n",
       "    </tr>\n",
       "    <tr>\n",
       "      <th>1</th>\n",
       "      <td>HO-9R</td>\n",
       "      <td>NaN</td>\n",
       "      <td>NaN</td>\n",
       "      <td>NaN</td>\n",
       "      <td>NaN</td>\n",
       "      <td>NaN</td>\n",
       "      <td>NaN</td>\n",
       "      <td>NaN</td>\n",
       "      <td>NaN</td>\n",
       "      <td>NaN</td>\n",
       "      <td>NaN</td>\n",
       "    </tr>\n",
       "  </tbody>\n",
       "</table>\n",
       "</div>"
      ],
      "text/plain": [
       "    Form  Other Perils    Fire  Other Wind and Hail  Theft  Water  Liability  \\\n",
       "0  HO-3R        1.0074  1.0074               1.0373    1.0    1.0        1.0   \n",
       "1  HO-9R           NaN     NaN                  NaN    NaN    NaN        NaN   \n",
       "\n",
       "   Hurricane  Severe Thunderstorm  Winter Storm  Earthquake  \n",
       "0     1.0569               1.0025        1.0066      1.0074  \n",
       "1        NaN                  NaN           NaN         NaN  "
      ]
     },
     "execution_count": 2,
     "metadata": {},
     "output_type": "execute_result"
    }
   ],
   "source": [
    "import pandas as pd\n",
    "data_ho = {\n",
    "    'Form': ['HO-3R', 'HO-9R'],\n",
    "    'Other Perils': [1.0074, None],\n",
    "    'Fire': [1.0074, None],\n",
    "    'Other Wind and Hail': [1.0373, None],\n",
    "    'Theft': [1.0000, None],\n",
    "    'Water': [1.0000, None],\n",
    "    'Liability': [1.0000, None],\n",
    "    'Hurricane': [1.0569, None],\n",
    "    'Severe Thunderstorm': [1.0025, None],\n",
    "    'Winter Storm': [1.0066, None],\n",
    "    'Earthquake': [1.0074, None]\n",
    "}\n",
    "\n",
    "# Create a new DataFrame\n",
    "df_ho = pd.DataFrame(data_ho)\n",
    "\n",
    "df_ho\n"
   ]
  },
  {
   "cell_type": "code",
   "execution_count": 3,
   "metadata": {},
   "outputs": [],
   "source": [
    "df_ho.to_csv(\"D:\\\\LSU\\\\Research\\\\wind_ins\\\\USAA-134022151\\\\output_tables\\\\Owner\\\\27_home_protector_coverage.csv\", index=False)"
   ]
  },
  {
   "cell_type": "code",
   "execution_count": null,
   "metadata": {},
   "outputs": [],
   "source": []
  }
 ],
 "metadata": {
  "kernelspec": {
   "display_name": "base",
   "language": "python",
   "name": "python3"
  },
  "language_info": {
   "codemirror_mode": {
    "name": "ipython",
    "version": 3
   },
   "file_extension": ".py",
   "mimetype": "text/x-python",
   "name": "python",
   "nbconvert_exporter": "python",
   "pygments_lexer": "ipython3",
   "version": "3.9.12"
  }
 },
 "nbformat": 4,
 "nbformat_minor": 2
}
