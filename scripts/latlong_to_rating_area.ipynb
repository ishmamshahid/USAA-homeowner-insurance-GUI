{
 "cells": [
  {
   "cell_type": "code",
   "execution_count": 32,
   "metadata": {},
   "outputs": [
    {
     "name": "stdout",
     "output_type": "stream",
     "text": [
      "The point is within the territory: 613\n"
     ]
    }
   ],
   "source": [
    "import geopandas as gpd\n",
    "from shapely.geometry import Point\n",
    "from geopy.geocoders import Nominatim\n",
    "\n",
    "Address = \"Tennyson Oaks Dr, Alexandria, LA 71301\"\n",
    "geolocator = Nominatim(user_agent=\"Ishmam\")\n",
    "location = geolocator.geocode(Address, namedetails=True)\n",
    "#print((location.latitude, location.longitude))\n",
    "\n",
    "\n",
    "# Load the shapefile (make sure to provide the correct path)\n",
    "shapefile_path = \"D:\\\\homeowner_insurance_USAA\\\\shp\\\\rating_area_fixed.shp\"\n",
    "polygons_gdf = gpd.read_file(shapefile_path)\n",
    "\n",
    "# Define the point's latitude and longitude\n",
    "latitude = location.latitude  # replace with actual latitude\n",
    "longitude = location.longitude # replace with actual longitude\n",
    "point = Point(longitude, latitude)\n",
    "\n",
    "# Ensure both the point and polygons are in the same CRS\n",
    "# Transform polygons and point to NAD83 (EPSG:3310)\n",
    "projected_gdf = polygons_gdf.to_crs(epsg=3310)\n",
    "projected_point = gpd.GeoSeries([point], crs=\"EPSG:4326\").to_crs(epsg=3310).iloc[0]\n",
    "\n",
    "# Check if the point falls within any polygon\n",
    "matching_polygons = projected_gdf[projected_gdf.contains(projected_point)]\n",
    "\n",
    "if not matching_polygons.empty:\n",
    "    # If point is within a polygon, get the first match and its 'Territory' value\n",
    "    territory = matching_polygons.iloc[0]['Territory']\n",
    "    print(f\"The point is within the territory: {territory}\")\n",
    "else:\n",
    "    # If point is not within any polygon, calculate the nearest polygon\n",
    "    projected_gdf['distance'] = projected_gdf.geometry.distance(projected_point)\n",
    "    nearest_polygon = projected_gdf.loc[projected_gdf['distance'].idxmin()]\n",
    "    territory = nearest_polygon['Territory']\n",
    "    print(f\"The point does not fall in any polygon. The nearest territory is: {territory}\")"
   ]
  },
  {
   "cell_type": "code",
   "execution_count": 29,
   "metadata": {},
   "outputs": [
    {
     "name": "stdout",
     "output_type": "stream",
     "text": [
      "The point is within the territory: 1252\n"
     ]
    }
   ],
   "source": [
    "import geopandas as gpd\n",
    "from shapely.geometry import Point\n",
    "from geopy.geocoders import Nominatim\n",
    "\n",
    "Address = \"1315 Bob Pettit Blvd, Baton Rouge, LA 70820\"\n",
    "geolocator = Nominatim(user_agent=\"Ishmam\")\n",
    "location = geolocator.geocode(Address, namedetails=True)\n",
    "#print((location.latitude, location.longitude))\n",
    "\n",
    "\n",
    "# Load the shapefile (make sure to provide the correct path)\n",
    "shapefile_path = \"D:\\\\homeowner_insurance_USAA\\\\shp\\\\rating_area_fixed.shp\"\n",
    "polygons_gdf = gpd.read_file(shapefile_path)\n",
    "\n",
    "# Define the point's latitude and longitude\n",
    "latitude = location.latitude  # replace with actual latitude\n",
    "longitude = location.longitude # replace with actual longitude\n",
    "point = Point(longitude, latitude)\n",
    "\n",
    "# Ensure both the point and polygons are in the same CRS\n",
    "# Transform polygons and point to NAD83 (EPSG:3310)\n",
    "projected_gdf = polygons_gdf.to_crs(epsg=3310)\n",
    "projected_point = gpd.GeoSeries([point], crs=\"EPSG:4326\").to_crs(epsg=3310).iloc[0]\n",
    "\n",
    "# Check if the point falls within any polygon\n",
    "matching_polygons = projected_gdf[projected_gdf.contains(projected_point)]\n",
    "\n",
    "if not matching_polygons.empty:\n",
    "    # If point is within a polygon, get the first match and its 'Territory' value\n",
    "    territory = matching_polygons.iloc[0]['Territory']\n",
    "    print(f\"The point is within the territory: {territory}\")\n",
    "else:\n",
    "    # If point is not within any polygon, calculate the nearest polygon\n",
    "    projected_gdf['distance'] = projected_gdf.geometry.distance(projected_point)\n",
    "    nearest_polygon = projected_gdf.loc[projected_gdf['distance'].idxmin()]\n",
    "    territory = nearest_polygon['Territory']\n",
    "    print(f\"The point does not fall in any polygon. The nearest territory is: {territory}\")"
   ]
  },
  {
   "cell_type": "code",
   "execution_count": null,
   "metadata": {},
   "outputs": [],
   "source": []
  }
 ],
 "metadata": {
  "kernelspec": {
   "display_name": "Python 3",
   "language": "python",
   "name": "python3"
  },
  "language_info": {
   "codemirror_mode": {
    "name": "ipython",
    "version": 3
   },
   "file_extension": ".py",
   "mimetype": "text/x-python",
   "name": "python",
   "nbconvert_exporter": "python",
   "pygments_lexer": "ipython3",
   "version": "3.11.5"
  }
 },
 "nbformat": 4,
 "nbformat_minor": 2
}
