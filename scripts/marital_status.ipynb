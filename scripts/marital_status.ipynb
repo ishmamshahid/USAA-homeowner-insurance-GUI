{
 "cells": [
  {
   "cell_type": "code",
   "execution_count": 2,
   "metadata": {},
   "outputs": [
    {
     "data": {
      "text/html": [
       "<div>\n",
       "<style scoped>\n",
       "    .dataframe tbody tr th:only-of-type {\n",
       "        vertical-align: middle;\n",
       "    }\n",
       "\n",
       "    .dataframe tbody tr th {\n",
       "        vertical-align: top;\n",
       "    }\n",
       "\n",
       "    .dataframe thead th {\n",
       "        text-align: right;\n",
       "    }\n",
       "</style>\n",
       "<table border=\"1\" class=\"dataframe\">\n",
       "  <thead>\n",
       "    <tr style=\"text-align: right;\">\n",
       "      <th></th>\n",
       "      <th>Status</th>\n",
       "      <th>Other Perils</th>\n",
       "      <th>Fire</th>\n",
       "      <th>Other Wind and Hail</th>\n",
       "      <th>Theft</th>\n",
       "      <th>Water</th>\n",
       "      <th>Liability</th>\n",
       "      <th>Hurricane</th>\n",
       "      <th>Severe Thunderstorm</th>\n",
       "      <th>Winter Storm</th>\n",
       "      <th>Earthquake</th>\n",
       "    </tr>\n",
       "  </thead>\n",
       "  <tbody>\n",
       "    <tr>\n",
       "      <th>0</th>\n",
       "      <td>Single</td>\n",
       "      <td>1.1441</td>\n",
       "      <td>1.0</td>\n",
       "      <td>1.0</td>\n",
       "      <td>1.3097</td>\n",
       "      <td>1.0</td>\n",
       "      <td>1.0</td>\n",
       "      <td>1.0</td>\n",
       "      <td>1.0</td>\n",
       "      <td>1.0</td>\n",
       "      <td>1.0</td>\n",
       "    </tr>\n",
       "    <tr>\n",
       "      <th>1</th>\n",
       "      <td>Married</td>\n",
       "      <td>1.0000</td>\n",
       "      <td>1.0</td>\n",
       "      <td>1.0</td>\n",
       "      <td>1.0000</td>\n",
       "      <td>1.0</td>\n",
       "      <td>1.0</td>\n",
       "      <td>1.0</td>\n",
       "      <td>1.0</td>\n",
       "      <td>1.0</td>\n",
       "      <td>1.0</td>\n",
       "    </tr>\n",
       "  </tbody>\n",
       "</table>\n",
       "</div>"
      ],
      "text/plain": [
       "    Status  Other Perils  Fire  Other Wind and Hail   Theft  Water  Liability  \\\n",
       "0   Single        1.1441   1.0                  1.0  1.3097    1.0        1.0   \n",
       "1  Married        1.0000   1.0                  1.0  1.0000    1.0        1.0   \n",
       "\n",
       "   Hurricane  Severe Thunderstorm  Winter Storm  Earthquake  \n",
       "0        1.0                  1.0           1.0         1.0  \n",
       "1        1.0                  1.0           1.0         1.0  "
      ]
     },
     "execution_count": 2,
     "metadata": {},
     "output_type": "execute_result"
    }
   ],
   "source": [
    "import pandas as pd\n",
    "\n",
    "data  = [\n",
    "    ['Single', 1.1441, 1.0000, 1.0000, 1.3097, 1.0000, 1.0000, 1.0000, 1.0000, 1.0000, 1.0000],\n",
    "    ['Married', 1.0000, 1.0000, 1.0000, 1.0000, 1.0000, 1.0000, 1.0000, 1.0000, 1.0000, 1.0000]\n",
    "]\n",
    "\n",
    "\n",
    "columns = ['Status', 'Other Perils', 'Fire', 'Other Wind and Hail', 'Theft', 'Water',\n",
    "           'Liability', 'Hurricane', 'Severe Thunderstorm', 'Winter Storm', 'Earthquake']\n",
    "\n",
    "\n",
    "\n",
    "# Create the DataFrame\n",
    "df = pd.DataFrame(data, columns=columns)\n",
    "\n",
    "# Display the DataFrame\n",
    "df\n"
   ]
  },
  {
   "cell_type": "code",
   "execution_count": 3,
   "metadata": {},
   "outputs": [],
   "source": [
    "df.to_csv(\"D:\\\\LSU\\\\Research\\\\wind_ins\\\\USAA-134022151\\\\output_tables\\\\Owner\\\\29_marital_status.csv\", index=False)"
   ]
  },
  {
   "cell_type": "code",
   "execution_count": null,
   "metadata": {},
   "outputs": [],
   "source": []
  }
 ],
 "metadata": {
  "kernelspec": {
   "display_name": "base",
   "language": "python",
   "name": "python3"
  },
  "language_info": {
   "codemirror_mode": {
    "name": "ipython",
    "version": 3
   },
   "file_extension": ".py",
   "mimetype": "text/x-python",
   "name": "python",
   "nbconvert_exporter": "python",
   "pygments_lexer": "ipython3",
   "version": "3.9.12"
  }
 },
 "nbformat": 4,
 "nbformat_minor": 2
}
